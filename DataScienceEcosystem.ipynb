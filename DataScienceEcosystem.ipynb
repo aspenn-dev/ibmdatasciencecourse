{
 "cells": [
  {
   "cell_type": "markdown",
   "id": "c04afc02-7d7a-4da1-a72f-31222ec62bf6",
   "metadata": {},
   "source": [
    "<h1> Data Science Tools and Ecosystem <h1>"
   ]
  },
  {
   "cell_type": "markdown",
   "id": "c908b7d9-ad0f-4100-9387-7a6b76f97e18",
   "metadata": {},
   "source": [
    "In this notebook, Data Science Tools and Ecosystems are summarized."
   ]
  },
  {
   "cell_type": "markdown",
   "id": "b4d76649-6477-4823-886a-cd408cbf3c30",
   "metadata": {},
   "source": [
    "**Objectives**\n",
    "- List some of the popular languages used in Data Science (DS)\n",
    "- List some of the common libraries used in DS\n",
    "- List some open-source software used by DS\n",
    "- Provide examples of simple arithmetic in Python"
   ]
  },
  {
   "cell_type": "markdown",
   "id": "e41c1cd3-a514-4fd3-8fb6-367584d0222b",
   "metadata": {},
   "source": [
    "Some of the popular languages that Data Scientists use are:\n",
    "1. Python\n",
    "2. R Studio\n",
    "3. SQL"
   ]
  },
  {
   "cell_type": "markdown",
   "id": "8f943f80-4634-4b7b-87b4-7c4cd6e45175",
   "metadata": {},
   "source": [
    "Some of the commonly used libraries used by Data Scientist include:\n",
    "1. pandas\n",
    "2. numpy\n",
    "3. matplotlib\n",
    "4. tesnorflow\n",
    "5. scikitlearn\n",
    "6. keras"
   ]
  },
  {
   "cell_type": "markdown",
   "id": "8e839e76-f9f7-42ba-a1ac-797231ed2244",
   "metadata": {},
   "source": [
    "| Data Science Tools |\n",
    "| ------------------ | \n",
    "| Jupyter Notebooks  |\n",
    "| R Studio           |\n",
    "| GitHub             |"
   ]
  },
  {
   "cell_type": "markdown",
   "id": "47286561-9c3e-46e7-b4eb-4d3fbf0e8623",
   "metadata": {},
   "source": [
    "<h3> Below are a few examples of evaluating arithmetic expression in Python. <h3>"
   ]
  },
  {
   "cell_type": "code",
   "execution_count": 3,
   "id": "980c9469-86b5-425f-8a2a-ab692a45c14f",
   "metadata": {},
   "outputs": [
    {
     "data": {
      "text/plain": [
       "17"
      ]
     },
     "execution_count": 3,
     "metadata": {},
     "output_type": "execute_result"
    }
   ],
   "source": [
    "# This is a simple arithmetic expression to multiply and then add integers\n",
    "(3*4)+5"
   ]
  },
  {
   "cell_type": "code",
   "execution_count": 4,
   "id": "2d294a38-f518-4fca-8779-946dd1212c91",
   "metadata": {},
   "outputs": [
    {
     "data": {
      "text/plain": [
       "3.3333333333333335"
      ]
     },
     "execution_count": 4,
     "metadata": {},
     "output_type": "execute_result"
    }
   ],
   "source": [
    "# This will convert 200 minutes to hours by dividing by 60\n",
    "200/60"
   ]
  },
  {
   "cell_type": "markdown",
   "id": "e3e5a5b0-61d7-487e-968d-f3fe7200aadd",
   "metadata": {},
   "source": [
    "<h2> Author <h2>\n",
    "Evan Bowie"
   ]
  },
  {
   "cell_type": "code",
   "execution_count": null,
   "id": "b1e6ba75-f4a5-4224-bf7e-9b462d5627e9",
   "metadata": {},
   "outputs": [],
   "source": []
  }
 ],
 "metadata": {
  "kernelspec": {
   "display_name": "Python 3 (ipykernel)",
   "language": "python",
   "name": "python3"
  },
  "language_info": {
   "codemirror_mode": {
    "name": "ipython",
    "version": 3
   },
   "file_extension": ".py",
   "mimetype": "text/x-python",
   "name": "python",
   "nbconvert_exporter": "python",
   "pygments_lexer": "ipython3",
   "version": "3.11.7"
  }
 },
 "nbformat": 4,
 "nbformat_minor": 5
}
